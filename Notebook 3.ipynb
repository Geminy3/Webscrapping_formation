{
 "cells": [
  {
   "cell_type": "markdown",
   "id": "96441e1d-92e8-4970-b9d0-c64d5a4ab60d",
   "metadata": {},
   "source": [
    "# <center> Formation à la manipulation de données textuelles en Python </center>\n",
    "## <center>  Jean-Philippe Magué (ENS de Lyon) - Julien Velin (Université Lumière Lyon 2) </center> "
   ]
  },
  {
   "cell_type": "markdown",
   "id": "578dc88e-51c5-4983-9da7-2b6375050452",
   "metadata": {},
   "source": [
    "# Analyse du lexique propre à chaque laboratoire\n",
    "\n",
    "Dans cette 3ème partie, nous allons nous intéressé à la fréquence des lemmes dans les desciptifs de chaque laboratoire. Notre objectif est degager les termes propres à chacunn d'entre eux."
   ]
  },
  {
   "cell_type": "markdown",
   "id": "448301a9-75f4-408d-b743-18b183bb6cfa",
   "metadata": {},
   "source": [
    "## Décompte du nombre d'occurrennces\n",
    "Voici plusieurs manière de compter le nombre d'occurrences des mots d'un document"
   ]
  },
  {
   "cell_type": "markdown",
   "id": "75c3fd65-de66-4e0c-9003-d51f7812d691",
   "metadata": {},
   "source": [
    "### Complètemenent à la main:"
   ]
  },
  {
   "cell_type": "code",
   "execution_count": 34,
   "id": "bdd011b3-c3dd-4588-9373-5518b47c385c",
   "metadata": {
    "execution": {
     "iopub.execute_input": "2022-02-04T08:58:12.318871Z",
     "iopub.status.busy": "2022-02-04T08:58:12.316173Z",
     "iopub.status.idle": "2022-02-04T08:58:12.334017Z",
     "shell.execute_reply": "2022-02-04T08:58:12.332798Z",
     "shell.execute_reply.started": "2022-02-04T08:58:12.318443Z"
    },
    "tags": []
   },
   "outputs": [],
   "source": [
    "nOcc={}\n",
    "with open('labos/IAO/lemmes.txt', encoding='utf8') as f:\n",
    "    for lemme in f:\n",
    "        lemme=lemme.strip()\n",
    "        if lemme not in nOcc:\n",
    "            nOcc[lemme]=0\n",
    "        nOcc[lemme]+=1"
   ]
  },
  {
   "cell_type": "markdown",
   "id": "079889d5-e8c8-489a-9184-5879cdc12297",
   "metadata": {
    "execution": {
     "iopub.execute_input": "2022-02-04T08:58:12.809276Z",
     "iopub.status.busy": "2022-02-04T08:58:12.808922Z",
     "iopub.status.idle": "2022-02-04T08:58:12.823599Z",
     "shell.execute_reply": "2022-02-04T08:58:12.822434Z",
     "shell.execute_reply.started": "2022-02-04T08:58:12.809245Z"
    },
    "tags": []
   },
   "source": [
    "### Un peu moins à la main, en utilisant un [defaultdict](https://docs.python.org/fr/3/library/collections.html#collections.defaultdict)"
   ]
  },
  {
   "cell_type": "code",
   "execution_count": 36,
   "id": "c9c4835a-5d7e-49ee-ad16-6db83288adc0",
   "metadata": {
    "execution": {
     "iopub.execute_input": "2022-02-04T08:59:38.068529Z",
     "iopub.status.busy": "2022-02-04T08:59:38.068045Z",
     "iopub.status.idle": "2022-02-04T08:59:38.092775Z",
     "shell.execute_reply": "2022-02-04T08:59:38.083838Z",
     "shell.execute_reply.started": "2022-02-04T08:59:38.068482Z"
    }
   },
   "outputs": [],
   "source": [
    "from collections import defaultdict"
   ]
  },
  {
   "cell_type": "code",
   "execution_count": 37,
   "id": "253e3dfc-51c4-4c24-a1cd-41cb147efabf",
   "metadata": {
    "execution": {
     "iopub.execute_input": "2022-02-04T08:59:52.304266Z",
     "iopub.status.busy": "2022-02-04T08:59:52.287354Z",
     "iopub.status.idle": "2022-02-04T08:59:52.330676Z",
     "shell.execute_reply": "2022-02-04T08:59:52.327562Z",
     "shell.execute_reply.started": "2022-02-04T08:59:52.304200Z"
    }
   },
   "outputs": [],
   "source": [
    "nOcc=defaultdict(int)\n",
    "with open('labos/IAO/lemmes.txt', encoding='utf8') as f:\n",
    "    for lemme in f:\n",
    "        lemme=lemme.strip()\n",
    "        nOcc[lemme]+=1"
   ]
  },
  {
   "cell_type": "markdown",
   "id": "f414cb3f-fb17-4392-bd90-219dd544d0e5",
   "metadata": {},
   "source": [
    "### Encore moins à la main, en utilisant un [Counter](https://docs.python.org/fr/3/library/collections.html#collections.Counter)"
   ]
  },
  {
   "cell_type": "code",
   "execution_count": 43,
   "id": "dc99d8be-6312-4484-bdff-8926f2297e73",
   "metadata": {
    "execution": {
     "iopub.execute_input": "2022-02-04T09:22:36.358106Z",
     "iopub.status.busy": "2022-02-04T09:22:36.357378Z",
     "iopub.status.idle": "2022-02-04T09:22:36.415544Z",
     "shell.execute_reply": "2022-02-04T09:22:36.408534Z",
     "shell.execute_reply.started": "2022-02-04T09:22:36.358047Z"
    }
   },
   "outputs": [],
   "source": [
    "from collections import Counter"
   ]
  },
  {
   "cell_type": "code",
   "execution_count": 38,
   "id": "2b80ec31-fda3-4f66-b953-e5d5741650a2",
   "metadata": {
    "execution": {
     "iopub.execute_input": "2022-02-04T09:02:33.689097Z",
     "iopub.status.busy": "2022-02-04T09:02:33.688658Z",
     "iopub.status.idle": "2022-02-04T09:02:33.697163Z",
     "shell.execute_reply": "2022-02-04T09:02:33.695901Z",
     "shell.execute_reply.started": "2022-02-04T09:02:33.689057Z"
    }
   },
   "outputs": [],
   "source": [
    "with open('labos/IAO/lemmes.txt', encoding='utf8') as f:\n",
    "    nOcc=Counter(f)\n",
    "nOcc"
   ]
  },
  {
   "cell_type": "code",
   "execution_count": 41,
   "id": "0e35b38d-b9c1-49a5-86ba-e90b398604ea",
   "metadata": {
    "execution": {
     "iopub.execute_input": "2022-02-04T09:04:58.158683Z",
     "iopub.status.busy": "2022-02-04T09:04:58.157729Z",
     "iopub.status.idle": "2022-02-04T09:04:58.166677Z",
     "shell.execute_reply": "2022-02-04T09:04:58.165447Z",
     "shell.execute_reply.started": "2022-02-04T09:04:58.158626Z"
    },
    "tags": []
   },
   "outputs": [],
   "source": [
    "lemmes=[]\n",
    "with open('labos/IAO/lemmes.txt', encoding='utf8') as f:\n",
    "    for lemme in f:\n",
    "        lemmes.append(lemme.strip())\n",
    "nOcc=Counter(lemmes)"
   ]
  },
  {
   "cell_type": "code",
   "execution_count": null,
   "id": "4852a39f-c43e-42b3-9f62-5d37de0bddba",
   "metadata": {
    "tags": []
   },
   "outputs": [],
   "source": [
    "with open('labos/IAO/lemmes.txt', encoding='utf8') as f:\n",
    "    nOcc=Counter([lemme.strip() for lemme in f])\n",
    "nOcc"
   ]
  },
  {
   "cell_type": "markdown",
   "id": "8f222c2f-17ab-476b-b566-92e3c0b3d69f",
   "metadata": {},
   "source": [
    "### Automatiquement, avec un [CountVectorizer](https://scikit-learn.org/stable/modules/generated/sklearn.feature_extraction.text.CountVectorizer.html) proposé par la bibliothèque [Scikit Learn](https://scikit-learn.org/stable/)"
   ]
  },
  {
   "cell_type": "code",
   "execution_count": 44,
   "id": "794416b4-1e31-4737-b992-287e1dd90375",
   "metadata": {
    "execution": {
     "iopub.execute_input": "2022-02-04T09:25:41.283423Z",
     "iopub.status.busy": "2022-02-04T09:25:41.282799Z",
     "iopub.status.idle": "2022-02-04T09:25:41.310460Z",
     "shell.execute_reply": "2022-02-04T09:25:41.294680Z",
     "shell.execute_reply.started": "2022-02-04T09:25:41.283258Z"
    }
   },
   "outputs": [],
   "source": [
    "from sklearn.feature_extraction.text import CountVectorizer"
   ]
  },
  {
   "cell_type": "code",
   "execution_count": 56,
   "id": "2299a1c9-7673-403a-88f2-0c44dfc12116",
   "metadata": {
    "execution": {
     "iopub.execute_input": "2022-02-04T09:32:19.299561Z",
     "iopub.status.busy": "2022-02-04T09:32:19.299168Z",
     "iopub.status.idle": "2022-02-04T09:32:19.315834Z",
     "shell.execute_reply": "2022-02-04T09:32:19.314682Z",
     "shell.execute_reply.started": "2022-02-04T09:32:19.299517Z"
    },
    "tags": []
   },
   "outputs": [],
   "source": [
    "counter=CountVectorizer()\n",
    "with open('labos/IAO/lemmes.txt') as f:\n",
    "    nOcc=counter.fit_transform([f.read()])"
   ]
  },
  {
   "cell_type": "code",
   "execution_count": 58,
   "id": "4b5ab127-98d3-45a2-a496-045fc2939e11",
   "metadata": {
    "execution": {
     "iopub.execute_input": "2022-02-04T09:33:04.015019Z",
     "iopub.status.busy": "2022-02-04T09:33:04.014318Z",
     "iopub.status.idle": "2022-02-04T09:33:04.031894Z",
     "shell.execute_reply": "2022-02-04T09:33:04.028759Z",
     "shell.execute_reply.started": "2022-02-04T09:33:04.014977Z"
    },
    "tags": []
   },
   "outputs": [
    {
     "data": {
      "text/plain": [
       "array([[ 1,  1,  1,  1,  1,  1,  2,  3,  1,  1,  2,  2,  1,  1,  3,  1,\n",
       "         2,  1,  1,  2,  2,  1,  2,  1,  1,  1,  1,  4, 23,  1,  1,  2,\n",
       "         2,  1,  2,  1,  1,  1,  1,  1, 14,  1,  2, 17,  1,  1,  2,  1,\n",
       "         1,  2,  1,  1,  1,  3,  5,  1,  1,  1,  1,  2,  1,  1,  1,  2,\n",
       "         1,  1,  2,  3, 13,  1,  1,  5,  1,  1,  1,  1,  1,  1,  1,  1,\n",
       "         1,  1,  1,  1,  1,  1,  1,  1,  1,  1,  1,  1,  2,  1,  1,  1,\n",
       "         1,  1,  2,  4,  1,  1,  2,  1,  1,  1,  1,  6,  3,  1,  3,  1,\n",
       "         1,  1,  1,  1,  1,  1,  5,  1,  1,  4,  1,  1,  1,  2,  1,  1,\n",
       "        11,  1,  1,  2,  1,  2,  3]])"
      ]
     },
     "execution_count": 58,
     "metadata": {},
     "output_type": "execute_result"
    }
   ],
   "source": [
    "nOcc.toarray()"
   ]
  },
  {
   "cell_type": "code",
   "execution_count": 59,
   "id": "136991e3-b243-48f8-b7ce-7f4e849d4d0c",
   "metadata": {
    "execution": {
     "iopub.execute_input": "2022-02-04T09:33:22.928881Z",
     "iopub.status.busy": "2022-02-04T09:33:22.927651Z",
     "iopub.status.idle": "2022-02-04T09:33:22.940637Z",
     "shell.execute_reply": "2022-02-04T09:33:22.938849Z",
     "shell.execute_reply.started": "2022-02-04T09:33:22.928826Z"
    }
   },
   "outputs": [
    {
     "data": {
      "text/plain": [
       "array(['1992', '2002', '5062', 'accès', 'acquérir', 'activité', 'ainsi',\n",
       "       'analyse', 'anthropologie', 'asean', 'asiatique', 'asie',\n",
       "       'associer', 'atteindre', 'avec', 'avoir', 'base', 'campus', 'ce',\n",
       "       'centre', 'chercheur', 'chine', 'chinois', 'cnrs', 'compétence',\n",
       "       'conjoint', 'corée', 'dans', 'de', 'depuis', 'descartes',\n",
       "       'différent', 'doctorant', 'documentation', 'domaine', 'donnée',\n",
       "       'dont', 'droit', 'développer', 'ecole', 'en', 'entretien', 'est',\n",
       "       'et', 'europe', 'excellence', 'expertise', 'fonder', 'formation',\n",
       "       'fort', 'géographie', 'géographique', 'histoire', 'humain', 'iao',\n",
       "       'iconographique', 'ii', 'iii', 'indonésien', 'information',\n",
       "       'installer', 'institut', 'institution', 'interaction', 'iv',\n",
       "       'japon', 'japonais', 'langue', 'le', 'linguistique', 'littérature',\n",
       "       'lyon', 'matière', 'maîtrise', 'mission', 'monde', 'national',\n",
       "       'normale', 'objectif', 'occidental', 'oriental', 'outre', 'par',\n",
       "       'particulier', 'pays', 'pertinent', 'philosophie', 'plus', 'po',\n",
       "       'politique', 'porter', 'post', 'principal', 'principalement',\n",
       "       'produire', 'qu', 'qualitative', 'que', 'qui', 'recherche',\n",
       "       'relever', 'repose', 'reposer', 'reste', 'retenir', 'réaliser',\n",
       "       'réseau', 'science', 'scientifique', 'social', 'sociale', 'son',\n",
       "       'spatial', 'spécialiser', 'spécifique', 'stratégie', 'sud',\n",
       "       'supérieur', 'sur', 'système', 'taiwan', 'technique', 'terrain',\n",
       "       'textuel', 'thaï', 'travail', 'tutelle', 'umr', 'un', 'unité',\n",
       "       'université', 'vietnamien', 'économique', 'économétrique', 'être'],\n",
       "      dtype=object)"
      ]
     },
     "execution_count": 59,
     "metadata": {},
     "output_type": "execute_result"
    }
   ],
   "source": [
    "counter.get_feature_names_out()"
   ]
  },
  {
   "cell_type": "markdown",
   "id": "047b388e-b863-4307-909b-0d0082bff444",
   "metadata": {
    "tags": []
   },
   "source": [
    "### Exercice 3.1\n",
    "Construire un DataFrame qui donne pour chaque laboratoire le nombre de d'occurrences de chaque lemme\n",
    "\n",
    "![](images/doc_term_mat.png)\n",
    "\n",
    "On appelle ce tableau **matrice document - terme** (*document term matrix*) ou encore **table lexicale**"
   ]
  },
  {
   "cell_type": "code",
   "execution_count": null,
   "id": "419ea162-f8d6-44fb-9713-d5d749006481",
   "metadata": {
    "tags": []
   },
   "outputs": [],
   "source": [
    "import pandas as pd\n"
   ]
  },
  {
   "cell_type": "markdown",
   "id": "5324ea63-5a01-4f64-a03d-d9c6aa97a30c",
   "metadata": {},
   "source": [
    "## Recherche du vocabulaire le plus caractéristique de chaque labo\n",
    "### Recherche des lemmes les plus fréquents"
   ]
  },
  {
   "cell_type": "markdown",
   "id": "eb79cef9-5e96-4f31-8b24-5b71570b71b2",
   "metadata": {},
   "source": [
    "#### Exercice 3.2\n",
    "Quels sont les 5 lemmes les plus fréquents pour le laboratoire LADEC ? Pour DIPHE? Pour CERCOR ?"
   ]
  },
  {
   "cell_type": "code",
   "execution_count": null,
   "id": "6fa0bd3b-43c8-4548-a681-89112be6138e",
   "metadata": {},
   "outputs": [],
   "source": []
  },
  {
   "cell_type": "markdown",
   "id": "fd910084-000e-4550-bdd5-9b45b60e1601",
   "metadata": {},
   "source": [
    "#### Exercice 3.3\n",
    "Cacluler le nombre d'occurrences de tous les lemmes, tous laboratoires confondus. Quel est le plus fréquent ? Le plus rare ?"
   ]
  },
  {
   "cell_type": "code",
   "execution_count": null,
   "id": "19511eb0-bd9c-423a-a841-8c5821f27908",
   "metadata": {},
   "outputs": [],
   "source": []
  },
  {
   "cell_type": "markdown",
   "id": "22d497fc-bea9-4f9f-83be-52fe6ef9d73d",
   "metadata": {},
   "source": [
    "Plus de 55% des lemmes que l'on trouve dans le corpus d'apparaissent qu'une seule fois. On les appelles des **hapax**"
   ]
  },
  {
   "cell_type": "markdown",
   "id": "860d0e03-30b5-4d9b-9882-04f464719921",
   "metadata": {},
   "source": [
    "Le lemme le plus fréquent, *de*, représente à lui seul plus de 11% des l'ensemble des tokens du corpus"
   ]
  },
  {
   "cell_type": "code",
   "execution_count": 245,
   "id": "c8e6a261-cbd4-4c80-b08d-c326b7fda8a5",
   "metadata": {
    "execution": {
     "iopub.execute_input": "2022-02-04T11:43:52.948577Z",
     "iopub.status.busy": "2022-02-04T11:43:52.942597Z",
     "iopub.status.idle": "2022-02-04T11:43:52.967221Z",
     "shell.execute_reply": "2022-02-04T11:43:52.960690Z",
     "shell.execute_reply.started": "2022-02-04T11:43:52.948509Z"
    },
    "tags": []
   },
   "outputs": [],
   "source": [
    "import matplotlib.pyplot as plt # matplotlib est une bibliothèque permettant de faire des graphique. Pandas s'appuie sur lle pour faire ses graphique"
   ]
  },
  {
   "cell_type": "code",
   "execution_count": 274,
   "id": "c0dcca6a-e820-43e1-84c9-d21ce84cf2e9",
   "metadata": {
    "execution": {
     "iopub.execute_input": "2022-02-04T12:48:18.554077Z",
     "iopub.status.busy": "2022-02-04T12:48:18.547489Z",
     "iopub.status.idle": "2022-02-04T12:48:18.566724Z",
     "shell.execute_reply": "2022-02-04T12:48:18.565013Z",
     "shell.execute_reply.started": "2022-02-04T12:48:18.554032Z"
    }
   },
   "outputs": [
    {
     "data": {
      "text/plain": [
       "range(1281, 2876)"
      ]
     },
     "execution_count": 274,
     "metadata": {},
     "output_type": "execute_result"
    }
   ],
   "source": [
    "range(1281,nOccTotal.shape[0])"
   ]
  },
  {
   "cell_type": "code",
   "execution_count": 365,
   "id": "3ce40c51-2057-434c-93ff-980e21c955f1",
   "metadata": {
    "execution": {
     "iopub.execute_input": "2022-02-04T13:35:13.173222Z",
     "iopub.status.busy": "2022-02-04T13:35:13.172720Z",
     "iopub.status.idle": "2022-02-04T13:35:13.571896Z",
     "shell.execute_reply": "2022-02-04T13:35:13.570033Z",
     "shell.execute_reply.started": "2022-02-04T13:35:13.173179Z"
    },
    "tags": []
   },
   "outputs": [
    {
     "data": {
      "text/plain": [
       "Text(2000, 150, 'hapax')"
      ]
     },
     "execution_count": 365,
     "metadata": {},
     "output_type": "execute_result"
    },
    {
     "data": {
      "image/png": "[encoded data removed]",
      "text/plain": [
       "<Figure size 1152x576 with 1 Axes>"
      ]
     },
     "metadata": {
      "needs_background": "light"
     },
     "output_type": "display_data"
    }
   ],
   "source": [
    "nOccTotal.plot(figsize=(16,8),style='.')\n",
    "\n",
    "plt.xticks([1,10,100,1000],[1,10,100,1000]);\n",
    "\n",
    "plt.annotate('de', xy=(20,nOccTotal.loc['de']), xytext=(130,nOccTotal.loc['de']), size='x-large',va='center', arrowprops={'arrowstyle':'->'})\n",
    "\n",
    "plt.hlines(100, 1281, nOccTotal.shape[0], linewidth=2, color='red')\n",
    "plt.vlines([1281, nOccTotal.shape[0]], 50, 100, linewidth=2, color='red')\n",
    "plt.text(2000,150,'hapax',size='x-large',va='center')"
   ]
  },
  {
   "cell_type": "code",
   "execution_count": 366,
   "id": "c6501077-3ec2-4b76-8f0e-467afc3930ac",
   "metadata": {
    "execution": {
     "iopub.execute_input": "2022-02-04T13:35:33.295238Z",
     "iopub.status.busy": "2022-02-04T13:35:33.292598Z",
     "iopub.status.idle": "2022-02-04T13:35:34.025904Z",
     "shell.execute_reply": "2022-02-04T13:35:34.024772Z",
     "shell.execute_reply.started": "2022-02-04T13:35:33.295133Z"
    },
    "tags": []
   },
   "outputs": [
    {
     "data": {
      "text/plain": [
       "Text(1500, 1.7, 'hapax')"
      ]
     },
     "execution_count": 366,
     "metadata": {},
     "output_type": "execute_result"
    },
    {
     "data": {
      "image/png": "[encoded data removed]",
      "text/plain": [
       "<Figure size 1152x576 with 1 Axes>"
      ]
     },
     "metadata": {
      "needs_background": "light"
     },
     "output_type": "display_data"
    }
   ],
   "source": [
    "plt.figure(figsize=(16,8))\n",
    "\n",
    "plt.loglog(range(1,nOccTotal.shape[0]+1), nOccTotal, '.')\n",
    "\n",
    "plt.xticks([1,10,100,1000],[1,10,100,1000]);\n",
    "\n",
    "plt.annotate('de', xy=(1.05,nOccTotal.loc['de']), xytext=(1.5,nOccTotal.loc['de']), size='x-large',va='center', arrowprops={'arrowstyle':'->'})\n",
    "\n",
    "plt.hlines(1.2, 1281, nOccTotal.shape[0], linewidth=2, color='red')\n",
    "plt.vlines([1281, nOccTotal.shape[0]], 1.1, 1.2, linewidth=2, color='red')\n",
    "plt.text(1500,1.7,'hapax',size='x-large',va='center')"
   ]
  },
  {
   "cell_type": "markdown",
   "id": "68caae61-bd2a-48f1-90fd-7c5fde9cf133",
   "metadata": {},
   "source": [
    "## Une mesure des termes caractérisques : [TF-IDF](https://fr.wikipedia.org/wiki/TF-IDF)\n",
    "TF-IDF (Term Frequency - Inverse Document Frequecy) est une méthode qui, étant donnée une collection de documents, permet d'attribuer une mesure de l'importance de chaque terme dans chaque document. Elle repose sur l'idée suivante :\n",
    "\n",
    "Plus un terme est fréquent dans un document, plus il est important. Mais un terme important partout est important nulle part.\n",
    "\n",
    "TF-IDF est donc le produit de 2 termes : \n",
    "\n",
    "* TF : la **frequence** du terme dans le document\n",
    "* IDF : (le logarithme de) l'inverse de la proportion de documents qui contiennent le terme\n",
    "\n",
    "$$\n",
    "\\text{tfidf}(t,D) = \\text{tf}(t,D).\\text{idf}(t)\n",
    "$$\n",
    "\n",
    "\n",
    "$$\n",
    "\\text{tf}(t,D) = \\frac{\\text{nombre d'occurrences de }t \\text{ dans } D}{\\text{taille du document } D}\n",
    "$$\n",
    "\n",
    "$$\n",
    "\\text{idf}(t) =  \\log{\\frac{\\text{nombre de documents}}{\\text{nombre de documents avec } t}}\n",
    "$$\n"
   ]
  },
  {
   "cell_type": "markdown",
   "id": "19275009-ab1e-4f64-b03b-85304eb395f0",
   "metadata": {
    "tags": []
   },
   "source": [
    "### Exercice 3.4\n",
    "Comment peut-on connaître la taille de chaque document ?"
   ]
  },
  {
   "cell_type": "code",
   "execution_count": null,
   "id": "0fce8ce7-428d-4e72-b19b-1ffdb75fc593",
   "metadata": {},
   "outputs": [],
   "source": []
  },
  {
   "cell_type": "markdown",
   "id": "2a04d0f4-7d98-44c3-8880-783ee17a26a3",
   "metadata": {},
   "source": [
    "### Exercice 3.5\n",
    "Calculer la fréquence de chaque lemme dans chaque document"
   ]
  },
  {
   "cell_type": "code",
   "execution_count": null,
   "id": "ece2eb7d-498a-449a-bb02-7dcfeea69e64",
   "metadata": {},
   "outputs": [],
   "source": []
  },
  {
   "cell_type": "markdown",
   "id": "9f52e84c-d419-472b-a218-d3dca302bfd9",
   "metadata": {
    "execution": {
     "iopub.execute_input": "2022-02-04T14:26:35.244675Z",
     "iopub.status.busy": "2022-02-04T14:26:35.243817Z",
     "iopub.status.idle": "2022-02-04T14:26:35.254508Z",
     "shell.execute_reply": "2022-02-04T14:26:35.250959Z",
     "shell.execute_reply.started": "2022-02-04T14:26:35.244596Z"
    }
   },
   "source": [
    "### Exercice 3.6\n",
    "Calculer pour chaque lemme le nombre de documents dans lequel il apparaît"
   ]
  },
  {
   "cell_type": "code",
   "execution_count": null,
   "id": "f6c9b654-5d2e-478b-88f1-a055021d7288",
   "metadata": {},
   "outputs": [],
   "source": []
  },
  {
   "cell_type": "markdown",
   "id": "d7dbfe95-7515-401a-89db-bdacd8f43b1a",
   "metadata": {},
   "source": [
    "### Exercice 3.7\n",
    "Calculer IDF pour chaque lemme"
   ]
  },
  {
   "cell_type": "code",
   "execution_count": null,
   "id": "f9cd909f-15b2-429e-837e-92984f0600eb",
   "metadata": {},
   "outputs": [],
   "source": []
  },
  {
   "cell_type": "markdown",
   "id": "5f2348fd-e079-44b2-ac97-bf272e1ff963",
   "metadata": {},
   "source": [
    "Pour pouvoir calculer le logarithme, on a besoin de faire appel à la bibliothèque *[numpy](https://numpy.org/)*"
   ]
  },
  {
   "cell_type": "markdown",
   "id": "c06bd351-e435-4054-8014-b12d863398be",
   "metadata": {},
   "source": [
    "### Exercice 3.8\n",
    "calculer TF-IDF pour tous les termes dans tous les documents"
   ]
  },
  {
   "cell_type": "code",
   "execution_count": null,
   "id": "a611b347-46e3-46d5-adc7-b1e3dd2b715d",
   "metadata": {},
   "outputs": [],
   "source": []
  },
  {
   "cell_type": "markdown",
   "id": "a7e10937-a31e-4905-9a6f-f2070d746f1c",
   "metadata": {},
   "source": [
    "On peut également le faire directement avec scikit learn grace à [TfidfVectorizer](https://scikit-learn.org/stable/modules/generated/sklearn.feature_extraction.text.TfidfVectorizer.html). Attention, les [calculs](https://scikit-learn.org/stable/modules/feature_extraction.html#tfidf-term-weighting) ne sont pas strictement identiques"
   ]
  },
  {
   "cell_type": "code",
   "execution_count": 440,
   "id": "5622928d-87a0-4b44-8901-7eb301bf7cc5",
   "metadata": {
    "execution": {
     "iopub.execute_input": "2022-02-04T14:59:37.199078Z",
     "iopub.status.busy": "2022-02-04T14:59:37.198554Z",
     "iopub.status.idle": "2022-02-04T14:59:37.304061Z",
     "shell.execute_reply": "2022-02-04T14:59:37.303258Z",
     "shell.execute_reply.started": "2022-02-04T14:59:37.199027Z"
    },
    "tags": []
   },
   "outputs": [],
   "source": [
    "from sklearn.feature_extraction.text import TfidfVectorizer\n",
    "\n",
    "def tokenizer(s):\n",
    "    return s.split('\\n')\n",
    "\n",
    "document&s=[]\n",
    "nom_labos=[]\n",
    "for fichier in fichiers:\n",
    "    nom_labos.append(fichier.split('/')[1])\n",
    "    with open(fichier, encoding='utf8') as f:\n",
    "        documents.append(f.read())\n",
    "tfidfer=TfidfVectorizer(lowercase=False,tokenizer=tokenizer) #On ne maîtrise pas bien la tokennisation de CountVectorizer !\n",
    "tfidf_sklearn=tfidfer.fit_transform(documents)\n",
    "tfidf_sklearn=pd.DataFrame.sparse.from_spmatrix(tfidf_sklearn,index=nom_labos,columns=tfidfer.get_feature_names_out())"
   ]
  },
  {
   "cell_type": "code",
   "execution_count": 438,
   "id": "a7aa4785-35de-4eeb-b377-c8591f12508c",
   "metadata": {
    "execution": {
     "iopub.execute_input": "2022-02-04T14:59:11.568682Z",
     "iopub.status.busy": "2022-02-04T14:59:11.568104Z",
     "iopub.status.idle": "2022-02-04T14:59:12.244173Z",
     "shell.execute_reply": "2022-02-04T14:59:12.241661Z",
     "shell.execute_reply.started": "2022-02-04T14:59:11.568649Z"
    },
    "tags": []
   },
   "outputs": [
    {
     "data": {
      "text/html": [
       "<div>\n",
       "<style scoped>\n",
       "    .dataframe tbody tr th:only-of-type {\n",
       "        vertical-align: middle;\n",
       "    }\n",
       "\n",
       "    .dataframe tbody tr th {\n",
       "        vertical-align: top;\n",
       "    }\n",
       "\n",
       "    .dataframe thead th {\n",
       "        text-align: right;\n",
       "    }\n",
       "</style>\n",
       "<table border=\"1\" class=\"dataframe\">\n",
       "  <thead>\n",
       "    <tr style=\"text-align: right;\">\n",
       "      <th></th>\n",
       "      <th></th>\n",
       "      <th>ACE</th>\n",
       "      <th>ADTL</th>\n",
       "      <th>ANC</th>\n",
       "      <th>ANR</th>\n",
       "      <th>APS</th>\n",
       "      <th>ARAR</th>\n",
       "      <th>ARCHEOLOGIE</th>\n",
       "      <th>ARTEMIS</th>\n",
       "      <th>ASEAN</th>\n",
       "      <th>...</th>\n",
       "      <th>évoluer</th>\n",
       "      <th>évolution</th>\n",
       "      <th>évènement</th>\n",
       "      <th>événement</th>\n",
       "      <th>événementiel</th>\n",
       "      <th>évêque</th>\n",
       "      <th>être</th>\n",
       "      <th>œuvr</th>\n",
       "      <th>œuvre</th>\n",
       "      <th>œuvrer</th>\n",
       "    </tr>\n",
       "  </thead>\n",
       "  <tbody>\n",
       "    <tr>\n",
       "      <th>LARHRA</th>\n",
       "      <td>0.018545</td>\n",
       "      <td>0.0</td>\n",
       "      <td>0.0</td>\n",
       "      <td>0.0</td>\n",
       "      <td>0.0</td>\n",
       "      <td>0.000000</td>\n",
       "      <td>0.0</td>\n",
       "      <td>0.0</td>\n",
       "      <td>0.0</td>\n",
       "      <td>0.000000</td>\n",
       "      <td>...</td>\n",
       "      <td>0.0</td>\n",
       "      <td>0.000000</td>\n",
       "      <td>0.0</td>\n",
       "      <td>0.0</td>\n",
       "      <td>0.0</td>\n",
       "      <td>0.0</td>\n",
       "      <td>0.040058</td>\n",
       "      <td>0.0</td>\n",
       "      <td>0.0</td>\n",
       "      <td>0.000000</td>\n",
       "    </tr>\n",
       "    <tr>\n",
       "      <th>RESHAPE</th>\n",
       "      <td>0.017792</td>\n",
       "      <td>0.0</td>\n",
       "      <td>0.0</td>\n",
       "      <td>0.0</td>\n",
       "      <td>0.0</td>\n",
       "      <td>0.000000</td>\n",
       "      <td>0.0</td>\n",
       "      <td>0.0</td>\n",
       "      <td>0.0</td>\n",
       "      <td>0.000000</td>\n",
       "      <td>...</td>\n",
       "      <td>0.0</td>\n",
       "      <td>0.000000</td>\n",
       "      <td>0.0</td>\n",
       "      <td>0.0</td>\n",
       "      <td>0.0</td>\n",
       "      <td>0.0</td>\n",
       "      <td>0.019216</td>\n",
       "      <td>0.0</td>\n",
       "      <td>0.0</td>\n",
       "      <td>0.000000</td>\n",
       "    </tr>\n",
       "    <tr>\n",
       "      <th>LVIS</th>\n",
       "      <td>0.018287</td>\n",
       "      <td>0.0</td>\n",
       "      <td>0.0</td>\n",
       "      <td>0.0</td>\n",
       "      <td>0.0</td>\n",
       "      <td>0.155732</td>\n",
       "      <td>0.0</td>\n",
       "      <td>0.0</td>\n",
       "      <td>0.0</td>\n",
       "      <td>0.000000</td>\n",
       "      <td>...</td>\n",
       "      <td>0.0</td>\n",
       "      <td>0.042282</td>\n",
       "      <td>0.0</td>\n",
       "      <td>0.0</td>\n",
       "      <td>0.0</td>\n",
       "      <td>0.0</td>\n",
       "      <td>0.079001</td>\n",
       "      <td>0.0</td>\n",
       "      <td>0.0</td>\n",
       "      <td>0.000000</td>\n",
       "    </tr>\n",
       "    <tr>\n",
       "      <th>IAO</th>\n",
       "      <td>0.015899</td>\n",
       "      <td>0.0</td>\n",
       "      <td>0.0</td>\n",
       "      <td>0.0</td>\n",
       "      <td>0.0</td>\n",
       "      <td>0.000000</td>\n",
       "      <td>0.0</td>\n",
       "      <td>0.0</td>\n",
       "      <td>0.0</td>\n",
       "      <td>0.067699</td>\n",
       "      <td>...</td>\n",
       "      <td>0.0</td>\n",
       "      <td>0.000000</td>\n",
       "      <td>0.0</td>\n",
       "      <td>0.0</td>\n",
       "      <td>0.0</td>\n",
       "      <td>0.0</td>\n",
       "      <td>0.051514</td>\n",
       "      <td>0.0</td>\n",
       "      <td>0.0</td>\n",
       "      <td>0.000000</td>\n",
       "    </tr>\n",
       "    <tr>\n",
       "      <th>CMW</th>\n",
       "      <td>0.011624</td>\n",
       "      <td>0.0</td>\n",
       "      <td>0.0</td>\n",
       "      <td>0.0</td>\n",
       "      <td>0.0</td>\n",
       "      <td>0.000000</td>\n",
       "      <td>0.0</td>\n",
       "      <td>0.0</td>\n",
       "      <td>0.0</td>\n",
       "      <td>0.000000</td>\n",
       "      <td>...</td>\n",
       "      <td>0.0</td>\n",
       "      <td>0.000000</td>\n",
       "      <td>0.0</td>\n",
       "      <td>0.0</td>\n",
       "      <td>0.0</td>\n",
       "      <td>0.0</td>\n",
       "      <td>0.062775</td>\n",
       "      <td>0.0</td>\n",
       "      <td>0.0</td>\n",
       "      <td>0.049498</td>\n",
       "    </tr>\n",
       "  </tbody>\n",
       "</table>\n",
       "<p>5 rows × 2876 columns</p>\n",
       "</div>"
      ],
      "text/plain": [
       "                   ACE  ADTL  ANC  ANR       APS  ARAR  ARCHEOLOGIE  ARTEMIS  \\\n",
       "LARHRA   0.018545  0.0   0.0  0.0  0.0  0.000000   0.0          0.0      0.0   \n",
       "RESHAPE  0.017792  0.0   0.0  0.0  0.0  0.000000   0.0          0.0      0.0   \n",
       "LVIS     0.018287  0.0   0.0  0.0  0.0  0.155732   0.0          0.0      0.0   \n",
       "IAO      0.015899  0.0   0.0  0.0  0.0  0.000000   0.0          0.0      0.0   \n",
       "CMW      0.011624  0.0   0.0  0.0  0.0  0.000000   0.0          0.0      0.0   \n",
       "\n",
       "            ASEAN  ...  évoluer  évolution  évènement  événement  \\\n",
       "LARHRA   0.000000  ...      0.0   0.000000        0.0        0.0   \n",
       "RESHAPE  0.000000  ...      0.0   0.000000        0.0        0.0   \n",
       "LVIS     0.000000  ...      0.0   0.042282        0.0        0.0   \n",
       "IAO      0.067699  ...      0.0   0.000000        0.0        0.0   \n",
       "CMW      0.000000  ...      0.0   0.000000        0.0        0.0   \n",
       "\n",
       "         événementiel  évêque      être  œuvr  œuvre    œuvrer  \n",
       "LARHRA            0.0     0.0  0.040058   0.0    0.0  0.000000  \n",
       "RESHAPE           0.0     0.0  0.019216   0.0    0.0  0.000000  \n",
       "LVIS              0.0     0.0  0.079001   0.0    0.0  0.000000  \n",
       "IAO               0.0     0.0  0.051514   0.0    0.0  0.000000  \n",
       "CMW               0.0     0.0  0.062775   0.0    0.0  0.049498  \n",
       "\n",
       "[5 rows x 2876 columns]"
      ]
     },
     "execution_count": 438,
     "metadata": {},
     "output_type": "execute_result"
    }
   ],
   "source": [
    "tfidf_sklearn.head()"
   ]
  },
  {
   "cell_type": "markdown",
   "id": "f350d08e-8008-4ad4-9f2d-34433156c2f9",
   "metadata": {
    "execution": {
     "iopub.execute_input": "2022-02-04T14:45:22.626940Z",
     "iopub.status.busy": "2022-02-04T14:45:22.624085Z",
     "iopub.status.idle": "2022-02-04T14:45:22.643608Z",
     "shell.execute_reply": "2022-02-04T14:45:22.638757Z",
     "shell.execute_reply.started": "2022-02-04T14:45:22.626797Z"
    }
   },
   "source": [
    "### Exercice 3.9\n",
    "Quels sont les 5 lemmes les plus caractéristiques du laboratoire LADEC ? De DIPHE? De CERCOR ?"
   ]
  },
  {
   "cell_type": "code",
   "execution_count": null,
   "id": "2c5613ff-fac0-460b-89b6-fc7ed2391ed1",
   "metadata": {},
   "outputs": [],
   "source": []
  },
  {
   "cell_type": "markdown",
   "id": "9e3dee5c-876b-4b63-bbf3-233a0b9de81a",
   "metadata": {},
   "source": [
    "Dans la manière de calculer de Scikit learn, le poids des mots vide (*stop words*) reste important. Il est possible de donner à Scikit learn une liste de mots à exclure des calculs. SpaCy propose justement une telle liste"
   ]
  },
  {
   "cell_type": "code",
   "execution_count": 445,
   "id": "6d5c3dc5-ac4b-4a7f-9a33-9bd18934875f",
   "metadata": {
    "execution": {
     "iopub.execute_input": "2022-02-04T15:03:21.342316Z",
     "iopub.status.busy": "2022-02-04T15:03:21.341490Z",
     "iopub.status.idle": "2022-02-04T15:03:21.471185Z",
     "shell.execute_reply": "2022-02-04T15:03:21.467678Z",
     "shell.execute_reply.started": "2022-02-04T15:03:21.342265Z"
    },
    "tags": []
   },
   "outputs": [],
   "source": [
    "from spacy.lang.fr.stop_words import STOP_WORDS \n",
    "def tokenizer(s):\n",
    "    return s.split('\\n')\n",
    "\n",
    "documents=[]\n",
    "nom_labos=[]\n",
    "for fichier in fichiers:\n",
    "    nom_labos.append(fichier.split('/')[1])\n",
    "    with open(fichier, encoding='utf8') as f:\n",
    "        documents.append(f.read())\n",
    "tfidfer=TfidfVectorizer(lowercase=False,tokenizer=tokenizer,stop_words=STOP_WORDS) #On ne maîtrise pas bien la tokennisation de CountVectorizer !\n",
    "tfidf_sklearn=tfidfer.fit_transform(documents)\n",
    "tfidf_sklearn=pd.DataFrame.sparse.from_spmatrix(tfidf_sklearn,index=nom_labos,columns=tfidfer.get_feature_names_out())"
   ]
  },
  {
   "cell_type": "code",
   "execution_count": 447,
   "id": "55ddae12-8bbb-419e-8bcb-20bfcd0be2b9",
   "metadata": {
    "execution": {
     "iopub.execute_input": "2022-02-04T15:03:55.491792Z",
     "iopub.status.busy": "2022-02-04T15:03:55.489064Z",
     "iopub.status.idle": "2022-02-04T15:03:55.562271Z",
     "shell.execute_reply": "2022-02-04T15:03:55.561088Z",
     "shell.execute_reply.started": "2022-02-04T15:03:55.491733Z"
    }
   },
   "outputs": [
    {
     "data": {
      "text/plain": [
       "ladec            0.425617\n",
       "contemporain     0.246522\n",
       "lyonnais         0.200265\n",
       "grand            0.149479\n",
       "Anthropologie    0.141872\n",
       "Name: LADEC, dtype: Sparse[float64, 0]"
      ]
     },
     "execution_count": 447,
     "metadata": {},
     "output_type": "execute_result"
    }
   ],
   "source": [
    "tfidf_sklearn.loc['LADEC'].sort_values(ascending=False).head(5)"
   ]
  },
  {
   "cell_type": "code",
   "execution_count": 450,
   "id": "232e733c-4678-43a1-b219-5bf0c8dea2c6",
   "metadata": {
    "execution": {
     "iopub.execute_input": "2022-02-04T15:08:59.095387Z",
     "iopub.status.busy": "2022-02-04T15:08:59.094876Z",
     "iopub.status.idle": "2022-02-04T15:08:59.187746Z",
     "shell.execute_reply": "2022-02-04T15:08:59.185334Z",
     "shell.execute_reply.started": "2022-02-04T15:08:59.095343Z"
    },
    "tags": []
   },
   "outputs": [
    {
     "data": {
      "text/plain": [
       "handicap         0.262087\n",
       "situation        0.211128\n",
       "professionnel    0.181319\n",
       "viser            0.176756\n",
       "psychique        0.169942\n",
       "Name: DIPHE, dtype: Sparse[float64, 0]"
      ]
     },
     "execution_count": 450,
     "metadata": {},
     "output_type": "execute_result"
    }
   ],
   "source": [
    "tfidf_sklearn.loc['DIPHE'].sort_values(ascending=False).head(5)"
   ]
  },
  {
   "cell_type": "code",
   "execution_count": 451,
   "id": "78266164-a259-44df-b27d-3e262d1bdb7e",
   "metadata": {
    "execution": {
     "iopub.execute_input": "2022-02-04T15:09:02.101362Z",
     "iopub.status.busy": "2022-02-04T15:09:02.100780Z",
     "iopub.status.idle": "2022-02-04T15:09:02.172030Z",
     "shell.execute_reply": "2022-02-04T15:09:02.170525Z",
     "shell.execute_reply.started": "2022-02-04T15:09:02.101312Z"
    },
    "tags": []
   },
   "outputs": [
    {
     "data": {
      "text/plain": [
       "cercor        0.292701\n",
       "religieux     0.275659\n",
       "monastique    0.175621\n",
       "fasti         0.175621\n",
       "Analecta      0.175621\n",
       "Name: CERCOR, dtype: Sparse[float64, 0]"
      ]
     },
     "execution_count": 451,
     "metadata": {},
     "output_type": "execute_result"
    }
   ],
   "source": [
    "tfidf_sklearn.loc['CERCOR'].sort_values(ascending=False).head(5)"
   ]
  },
  {
   "cell_type": "markdown",
   "id": "df23809b-5516-4480-875b-82d100236626",
   "metadata": {
    "execution": {
     "iopub.execute_input": "2022-02-04T15:09:54.413232Z",
     "iopub.status.busy": "2022-02-04T15:09:54.412510Z",
     "iopub.status.idle": "2022-02-04T15:09:54.417509Z",
     "shell.execute_reply": "2022-02-04T15:09:54.416453Z",
     "shell.execute_reply.started": "2022-02-04T15:09:54.413193Z"
    }
   },
   "source": [
    "## Nuages de mots à partir des résultats de tf idf\n",
    "la bibliothèque wordcloud permet de créer des nuages du mots. La forme du nuage peut être préciser via une image noir et blanc.\n",
    "Pour l'installer, copiez-collez `!conda install wordcloud` dans une cellule sur vous utilisez anaconda, `!pip install wordcloud` sinon"
   ]
  },
  {
   "cell_type": "code",
   "execution_count": null,
   "id": "af35db33-909f-4e19-b209-0a6499ab5790",
   "metadata": {},
   "outputs": [],
   "source": []
  },
  {
   "cell_type": "code",
   "execution_count": 542,
   "id": "dccba4b0-1e55-42f5-b6f5-07e6e5af939a",
   "metadata": {
    "execution": {
     "iopub.execute_input": "2022-02-04T16:20:09.411646Z",
     "iopub.status.busy": "2022-02-04T16:20:09.411230Z",
     "iopub.status.idle": "2022-02-04T16:20:09.419680Z",
     "shell.execute_reply": "2022-02-04T16:20:09.418072Z",
     "shell.execute_reply.started": "2022-02-04T16:20:09.411612Z"
    }
   },
   "outputs": [],
   "source": [
    "# imread est nécessaire si on souhaite utiliser un masque (image en noir et blanc, le noir indiquant où afficher le nuage)\n",
    "from imageio import imread\n",
    "from wordcloud import WordCloud\n",
    "from tqdm.notebook import tqdm"
   ]
  },
  {
   "cell_type": "code",
   "execution_count": null,
   "id": "3d558548-b4c6-473b-a96b-6c791053efcb",
   "metadata": {
    "execution": {
     "iopub.execute_input": "2022-02-04T16:23:04.699088Z",
     "iopub.status.busy": "2022-02-04T16:23:04.697061Z"
    },
    "tags": []
   },
   "outputs": [
    {
     "data": {
      "application/vnd.jupyter.widget-view+json": {
       "model_id": "e65f898a0f154f709ff83fe5cca426b4",
       "version_major": 2,
       "version_minor": 0
      },
      "text/plain": [
       "  0%|          | 0/51 [00:00<?, ?it/s]"
      ]
     },
     "metadata": {},
     "output_type": "display_data"
    },
    {
     "name": "stderr",
     "output_type": "stream",
     "text": [
      "/var/folders/15/c_zgb6zs29s6cd4rj6y30hvr0000gp/T/ipykernel_22328/1941860122.py:13: RuntimeWarning: More than 20 figures have been opened. Figures created through the pyplot interface (`matplotlib.pyplot.figure`) are retained until explicitly closed and may consume too much memory. (To control this warning, see the rcParam `figure.max_open_warning`).\n",
      "  plt.figure(figsize=(10,15))\n"
     ]
    }
   ],
   "source": [
    "# nombre de mots à afficher\n",
    "limit = 100\n",
    "\n",
    "bgcolor = '#000000' # couleur de fond\n",
    "    \n",
    "for labo in tqdm(tfidf_sklearn.index):\n",
    "    wordcloud = WordCloud(\n",
    "        max_words=limit,\n",
    "        mask=imread('images/logo_msh.png'),  # avec ou sans masque, à essayer ! (attention, nécessite un fichier de masque en noir et blanc)    \n",
    "        background_color=bgcolor,\n",
    "    ).generate_from_frequencies(tfidf_sklearn.loc[labo])\n",
    "\n",
    "    plt.figure(figsize=(10,15))\n",
    "    plt.xticks([])\n",
    "    plt.yticks([]) \n",
    "    plt.title(labo)\n",
    "\n",
    "    plt.imshow(wordcloud)\n",
    "    plt.savefig(f'labos/{labo}/nuage.png')"
   ]
  },
  {
   "cell_type": "code",
   "execution_count": null,
   "id": "3e45a116-fba9-40b1-b8c1-b5331d35e6bc",
   "metadata": {},
   "outputs": [],
   "source": []
  }
 ],
 "metadata": {
  "kernelspec": {
   "display_name": "Python 3 (ipykernel)",
   "language": "python",
   "name": "python3"
  },
  "language_info": {
   "codemirror_mode": {
    "name": "ipython",
    "version": 3
   },
   "file_extension": ".py",
   "mimetype": "text/x-python",
   "name": "python",
   "nbconvert_exporter": "python",
   "pygments_lexer": "ipython3",
   "version": "3.8.12"
  }
 },
 "nbformat": 4,
 "nbformat_minor": 5
}
