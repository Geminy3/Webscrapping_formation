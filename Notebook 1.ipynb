{
 "cells": [
  {
   "attachments": {},
   "cell_type": "markdown",
   "id": "96441e1d-92e8-4970-b9d0-c64d5a4ab60d",
   "metadata": {},
   "source": [
    "# <center> Formation à la manipulation de données textiles en Python </center>\n",
    "## <center>  Jean-Philippe Magué (ENS de Lyon) <br/> Julien Velcin (Université Lumière Lyon 2) <br/> Orline Poulat (Maison des Sciences de l'Homme - Lyon Saint Etienne) <br/> Alioscha Massein  (Maison des Sciences de l'Homme - Lyon Saint Etienne)</center> "
   ]
  },
  {
   "cell_type": "markdown",
   "id": "95313ba8-8b71-46a4-bb2c-9212ad6baaf8",
   "metadata": {},
   "source": [
    "# 0. Préambule\n",
    "## 0.1 Les notebooks Jupyter\n",
    "Ceci est un *[notebook Jupyter](https://jupyter-notebook.readthedocs.io/en/stable/index.html)*. C'est un document, ou plus précisément une application web, permettant d'exécuter du code Python dans un navigateur web. Les notebooks présentent de nombreux intérêts : interactivité, possiblité de mélanger code et texte (et images), possibilité d'exécuter le code sur une machine distante..."
   ]
  },
  {
   "cell_type": "markdown",
   "id": "7961aeac-dbe9-4426-ac9e-4abb9ebe496c",
   "metadata": {},
   "source": [
    "Un notebook est une succession de *cellules*. Il y a différents types de cellules, notamment texte (et même [Markdown](https://jupyter-notebook.readthedocs.io/en/stable/examples/Notebook/Working%20With%20Markdown%20Cells.html)) et code. \n",
    "\n",
    "Vous êtes en train de lire une cellule Markdown : si vous double-cliquez, vous pourrez l'éditer.\n",
    "\n",
    "La cellule suivante est une cellule de code : si vous tapez du code dedans, vous pourrez l'exécuter. "
   ]
  },
  {
   "cell_type": "code",
   "execution_count": 2,
   "id": "2be044f3-e03a-4a9d-896c-3f7f34d7d989",
   "metadata": {
    "execution": {
     "iopub.execute_input": "2022-02-01T15:42:06.122475Z",
     "iopub.status.busy": "2022-02-01T15:42:06.118592Z",
     "iopub.status.idle": "2022-02-01T15:42:06.170188Z",
     "shell.execute_reply": "2022-02-01T15:42:06.168570Z",
     "shell.execute_reply.started": "2022-02-01T15:42:06.122337Z"
    }
   },
   "outputs": [
    {
     "data": {
      "text/plain": [
       "4"
      ]
     },
     "execution_count": 2,
     "metadata": {},
     "output_type": "execute_result"
    }
   ],
   "source": [
    "2+2"
   ]
  },
  {
   "cell_type": "markdown",
   "id": "a7a0b977-f019-4d51-b5d9-454310e64f22",
   "metadata": {},
   "source": [
    "L'exécution d'ne cellule de code affiche toujours le résultat de la dernière instruction. "
   ]
  },
  {
   "cell_type": "markdown",
   "id": "4149b71c-40a0-4f55-a45d-8cea2971a8e9",
   "metadata": {},
   "source": [
    "## 0.2 Programme de la journée\n",
    "![](images/img1.png)"
   ]
  },
  {
   "cell_type": "markdown",
   "id": "23d0aa1e-9ae4-4deb-bc24-03d92e50b533",
   "metadata": {},
   "source": [
    "# 1. Récupération de données en ligne\n",
    "Nous allons récupérer 2 types d'information sur le site de la MSH :\n",
    "* La [liste](https://www.msh-lse.fr/laboratoires/) des tous les laboratoires, avec pour chacun son nom, son acronnyme, son code, sese disciplines et l'adresse de la page le décrivant\n",
    "* Pour chaque laboratoire, le *Projet scientifique* et les *Compétences, activités valorisables*\n",
    "\n",
    "Pour cela, nous allons nous appuyer sur 2 packages Python : [urlib](https://docs.python.org/fr/3/library/urllib.html) qui permet, entre autres, de faire des requêtes HTTP et [Beautiful Soup](https://beautiful-soup-4.readthedocs.io/en/latest/) qui permet de parser et d'extraire des partie de documents HTML (et XML)"
   ]
  },
  {
   "cell_type": "code",
   "execution_count": 3,
   "id": "e0bd673a-edb2-4def-b7e0-13133bf49a44",
   "metadata": {
    "execution": {
     "iopub.execute_input": "2022-02-03T13:14:45.890820Z",
     "iopub.status.busy": "2022-02-03T13:14:45.890336Z",
     "iopub.status.idle": "2022-02-03T13:14:46.088765Z",
     "shell.execute_reply": "2022-02-03T13:14:46.087875Z",
     "shell.execute_reply.started": "2022-02-03T13:14:45.890719Z"
    }
   },
   "outputs": [],
   "source": [
    "import requests\n",
    "from bs4 import BeautifulSoup"
   ]
  },
  {
   "cell_type": "markdown",
   "id": "73214f41-4691-4207-acc5-1b1def707cb2",
   "metadata": {},
   "source": [
    "## Exemple"
   ]
  },
  {
   "cell_type": "code",
   "execution_count": 4,
   "id": "17f38363-08ad-49e7-a1e1-5f3500630743",
   "metadata": {
    "execution": {
     "iopub.execute_input": "2022-02-03T13:17:32.302366Z",
     "iopub.status.busy": "2022-02-03T13:17:32.301899Z",
     "iopub.status.idle": "2022-02-03T13:17:32.358818Z",
     "shell.execute_reply": "2022-02-03T13:17:32.356825Z",
     "shell.execute_reply.started": "2022-02-03T13:17:32.302323Z"
    },
    "tags": []
   },
   "outputs": [],
   "source": [
    "url='http://perso.ens-lyon.fr/jean-philippe.mague/other/cours/2021-2022/IXXI/manipText/exemple.html' \n",
    "html=requests.get(url).text\n",
    "#c'est le document html utilisé comme exemple dans la documentation de Beautiful Soup"
   ]
  },
  {
   "cell_type": "code",
   "execution_count": 5,
   "id": "f894241e-9c16-408f-8413-875a9589fbee",
   "metadata": {
    "execution": {
     "iopub.execute_input": "2022-02-03T13:17:32.898807Z",
     "iopub.status.busy": "2022-02-03T13:17:32.898536Z",
     "iopub.status.idle": "2022-02-03T13:17:32.907678Z",
     "shell.execute_reply": "2022-02-03T13:17:32.904842Z",
     "shell.execute_reply.started": "2022-02-03T13:17:32.898784Z"
    },
    "tags": []
   },
   "outputs": [
    {
     "name": "stdout",
     "output_type": "stream",
     "text": [
      "<!DOCTYPE html>\n",
      "<html lang=\"fr\" >\n",
      "    <head>\n",
      "        <title>The Dormouse's story</title>\n",
      "    </head>\n",
      "    <body>\n",
      "        <p class=\"title\"><b>The Dormouse's story</b></p>\n",
      "\n",
      "        <p class=\"story\">Once upon a time there were three little sisters; and their names were\n",
      "        <a href=\"http://example.com/elsie\" class=\"sister\" id=\"link1\">Elsie</a>,\n",
      "        <a href=\"http://example.com/lacie\" class=\"sister\" id=\"link2\">Lacie</a> and\n",
      "        <a href=\"http://example.com/tillie\" class=\"sister\" id=\"link3\">Tillie</a>;\n",
      "        and they lived at the bottom of a well.</p>\n",
      "\n",
      "        <p class=\"story\">...</p>\n",
      "    </body>\n",
      "</html>\n",
      "\n"
     ]
    }
   ],
   "source": [
    "print(html)#html est une chaîne de caractères"
   ]
  },
  {
   "cell_type": "code",
   "execution_count": 6,
   "id": "1b806df7-60de-4097-a216-b4b6375f6f61",
   "metadata": {
    "execution": {
     "iopub.execute_input": "2022-02-03T13:17:34.979916Z",
     "iopub.status.busy": "2022-02-03T13:17:34.979415Z",
     "iopub.status.idle": "2022-02-03T13:17:34.991447Z",
     "shell.execute_reply": "2022-02-03T13:17:34.989634Z",
     "shell.execute_reply.started": "2022-02-03T13:17:34.979873Z"
    },
    "tags": []
   },
   "outputs": [],
   "source": [
    "soup = BeautifulSoup(html, 'html.parser')"
   ]
  },
  {
   "cell_type": "code",
   "execution_count": 26,
   "id": "21998d63-de23-4985-a067-f1f980d9445d",
   "metadata": {
    "execution": {
     "iopub.execute_input": "2022-02-01T16:15:02.457293Z",
     "iopub.status.busy": "2022-02-01T16:15:02.456845Z",
     "iopub.status.idle": "2022-02-01T16:15:02.464410Z",
     "shell.execute_reply": "2022-02-01T16:15:02.462816Z",
     "shell.execute_reply.started": "2022-02-01T16:15:02.457255Z"
    }
   },
   "outputs": [
    {
     "name": "stdout",
     "output_type": "stream",
     "text": [
      "<!--<!DOCTYPE html-->\n",
      "<html lang=\"fr\">\n",
      "<head><title>The Dormouse's story</title></head>\n",
      "<body>\n",
      "<p class=\"title\"><b>The Dormouse's story</b></p>\n",
      "<p class=\"story\">Once upon a time there were three little sisters; and their names were\n",
      "<a class=\"sister\" href=\"http://example.com/elsie\" id=\"link1\">Elsie</a>,\n",
      "<a class=\"sister\" href=\"http://example.com/lacie\" id=\"link2\">Lacie</a> and\n",
      "<a class=\"sister\" href=\"http://example.com/tillie\" id=\"link3\">Tillie</a>;\n",
      "and they lived at the bottom of a well.</p>\n",
      "<p class=\"story\">...</p>\n",
      "</body>\n",
      "</html>\n",
      "\n"
     ]
    }
   ],
   "source": [
    "print(soup) #soup est un objet complexe qui permet de naviguer dans l'arbre HTML"
   ]
  },
  {
   "cell_type": "code",
   "execution_count": 27,
   "id": "0d8bb262-6a2a-4631-a548-bcf23e82804f",
   "metadata": {
    "execution": {
     "iopub.execute_input": "2022-02-01T16:17:05.190163Z",
     "iopub.status.busy": "2022-02-01T16:17:05.189040Z",
     "iopub.status.idle": "2022-02-01T16:17:05.202526Z",
     "shell.execute_reply": "2022-02-01T16:17:05.200793Z",
     "shell.execute_reply.started": "2022-02-01T16:17:05.190115Z"
    }
   },
   "outputs": [
    {
     "data": {
      "text/plain": [
       "<title>The Dormouse's story</title>"
      ]
     },
     "execution_count": 27,
     "metadata": {},
     "output_type": "execute_result"
    }
   ],
   "source": [
    "soup.title #le premier élément <title>"
   ]
  },
  {
   "cell_type": "code",
   "execution_count": 28,
   "id": "c655d833-501e-4007-8059-2c3b7f344871",
   "metadata": {
    "execution": {
     "iopub.execute_input": "2022-02-01T16:17:23.093475Z",
     "iopub.status.busy": "2022-02-01T16:17:23.085567Z",
     "iopub.status.idle": "2022-02-01T16:17:23.105763Z",
     "shell.execute_reply": "2022-02-01T16:17:23.103000Z",
     "shell.execute_reply.started": "2022-02-01T16:17:23.093407Z"
    }
   },
   "outputs": [
    {
     "data": {
      "text/plain": [
       "\"The Dormouse's story\""
      ]
     },
     "execution_count": 28,
     "metadata": {},
     "output_type": "execute_result"
    }
   ],
   "source": [
    "soup.title.string"
   ]
  },
  {
   "cell_type": "code",
   "execution_count": 33,
   "id": "d061451b-6773-42d2-a918-1a88349f149a",
   "metadata": {
    "execution": {
     "iopub.execute_input": "2022-02-01T16:19:06.647930Z",
     "iopub.status.busy": "2022-02-01T16:19:06.647278Z",
     "iopub.status.idle": "2022-02-01T16:19:06.656441Z",
     "shell.execute_reply": "2022-02-01T16:19:06.655190Z",
     "shell.execute_reply.started": "2022-02-01T16:19:06.647890Z"
    },
    "tags": []
   },
   "outputs": [
    {
     "data": {
      "text/plain": [
       "<a class=\"sister\" href=\"http://example.com/elsie\" id=\"link1\">Elsie</a>"
      ]
     },
     "execution_count": 33,
     "metadata": {},
     "output_type": "execute_result"
    }
   ],
   "source": [
    "soup.a #le premier élément <a>"
   ]
  },
  {
   "cell_type": "code",
   "execution_count": 35,
   "id": "210f10c7-bfd6-4b7c-88c1-8c6850df50c1",
   "metadata": {
    "execution": {
     "iopub.execute_input": "2022-02-01T16:20:00.881240Z",
     "iopub.status.busy": "2022-02-01T16:20:00.880466Z",
     "iopub.status.idle": "2022-02-01T16:20:00.894605Z",
     "shell.execute_reply": "2022-02-01T16:20:00.893419Z",
     "shell.execute_reply.started": "2022-02-01T16:20:00.881184Z"
    },
    "tags": []
   },
   "outputs": [
    {
     "name": "stdout",
     "output_type": "stream",
     "text": [
      "['sister']\n",
      "http://example.com/elsie\n"
     ]
    }
   ],
   "source": [
    "print(soup.a['class'])# On peut accéder aux attributs d'un élément\n",
    "print(soup.a['href'])"
   ]
  },
  {
   "cell_type": "code",
   "execution_count": 31,
   "id": "eb2325d4-dc86-4e32-8347-6895988e4e6f",
   "metadata": {
    "execution": {
     "iopub.execute_input": "2022-02-01T16:18:34.778007Z",
     "iopub.status.busy": "2022-02-01T16:18:34.775961Z",
     "iopub.status.idle": "2022-02-01T16:18:34.788606Z",
     "shell.execute_reply": "2022-02-01T16:18:34.786434Z",
     "shell.execute_reply.started": "2022-02-01T16:18:34.777943Z"
    }
   },
   "outputs": [
    {
     "data": {
      "text/plain": [
       "[<a class=\"sister\" href=\"http://example.com/elsie\" id=\"link1\">Elsie</a>,\n",
       " <a class=\"sister\" href=\"http://example.com/lacie\" id=\"link2\">Lacie</a>,\n",
       " <a class=\"sister\" href=\"http://example.com/tillie\" id=\"link3\">Tillie</a>]"
      ]
     },
     "execution_count": 31,
     "metadata": {},
     "output_type": "execute_result"
    }
   ],
   "source": [
    "soup.find_all('a') #on peut rechercher tous les éléments à partir de leur nom"
   ]
  },
  {
   "cell_type": "code",
   "execution_count": 40,
   "id": "e5be376c-9c57-427b-adab-9708c2f0fa3d",
   "metadata": {
    "execution": {
     "iopub.execute_input": "2022-02-01T16:26:00.525832Z",
     "iopub.status.busy": "2022-02-01T16:26:00.525373Z",
     "iopub.status.idle": "2022-02-01T16:26:00.541438Z",
     "shell.execute_reply": "2022-02-01T16:26:00.540155Z",
     "shell.execute_reply.started": "2022-02-01T16:26:00.525788Z"
    },
    "tags": []
   },
   "outputs": [
    {
     "data": {
      "text/plain": [
       "[<p class=\"story\">Once upon a time there were three little sisters; and their names were\n",
       " <a class=\"sister\" href=\"http://example.com/elsie\" id=\"link1\">Elsie</a>,\n",
       " <a class=\"sister\" href=\"http://example.com/lacie\" id=\"link2\">Lacie</a> and\n",
       " <a class=\"sister\" href=\"http://example.com/tillie\" id=\"link3\">Tillie</a>;\n",
       " and they lived at the bottom of a well.</p>,\n",
       " <p class=\"story\">...</p>]"
      ]
     },
     "execution_count": 40,
     "metadata": {},
     "output_type": "execute_result"
    }
   ],
   "source": [
    "soup.find_all('p',{\"class\": \"story\"}) #on peut également imposer des contraintes sur leurs attributs"
   ]
  },
  {
   "cell_type": "markdown",
   "id": "574187a2-7b1c-4609-91ea-39e1f4f8fdd1",
   "metadata": {},
   "source": [
    "## Liste des laboratoires"
   ]
  },
  {
   "cell_type": "markdown",
   "id": "167beb76-6272-440d-ab70-7cefaf801c01",
   "metadata": {},
   "source": [
    "La liste des laboratoires est disponinble [ici](https://www.msh-lse.fr/laboratoires/). \n",
    "### Exercice 1.1\n",
    "Comment récupérer le code HTML de la page ?"
   ]
  },
  {
   "cell_type": "code",
   "execution_count": 7,
   "id": "9d93ea13-ba86-4710-aea4-15cae3c80270",
   "metadata": {
    "execution": {
     "iopub.execute_input": "2022-02-03T13:27:53.865206Z",
     "iopub.status.busy": "2022-02-03T13:27:53.864801Z",
     "iopub.status.idle": "2022-02-03T13:27:55.324704Z",
     "shell.execute_reply": "2022-02-03T13:27:55.324093Z",
     "shell.execute_reply.started": "2022-02-03T13:27:53.865169Z"
    },
    "tags": []
   },
   "outputs": [],
   "source": []
  },
  {
   "cell_type": "markdown",
   "id": "dd3f641d-51e1-4a7d-a4e5-5a427e40497a",
   "metadata": {
    "execution": {
     "iopub.execute_input": "2022-02-03T13:28:33.332973Z",
     "iopub.status.busy": "2022-02-03T13:28:33.332499Z",
     "iopub.status.idle": "2022-02-03T13:28:33.344081Z",
     "shell.execute_reply": "2022-02-03T13:28:33.342290Z",
     "shell.execute_reply.started": "2022-02-03T13:28:33.332934Z"
    }
   },
   "source": [
    "La structure de la page est la suivante :\n",
    "\n",
    "![](images/img2.png)"
   ]
  },
  {
   "cell_type": "markdown",
   "id": "2170d176-1434-4616-ae19-63acf5e00139",
   "metadata": {},
   "source": [
    "### Exercice 1.2\n",
    "Comment récupérer les cartes qui représentent chaque laboratoire ?"
   ]
  },
  {
   "cell_type": "code",
   "execution_count": 46,
   "id": "43aa2896-7757-4bdc-85bf-97c08d45e7c9",
   "metadata": {
    "execution": {
     "iopub.execute_input": "2022-02-01T16:30:28.479845Z",
     "iopub.status.busy": "2022-02-01T16:30:28.479519Z",
     "iopub.status.idle": "2022-02-01T16:30:28.489808Z",
     "shell.execute_reply": "2022-02-01T16:30:28.488232Z",
     "shell.execute_reply.started": "2022-02-01T16:30:28.479821Z"
    },
    "tags": []
   },
   "outputs": [],
   "source": []
  },
  {
   "cell_type": "markdown",
   "id": "e5f96726-088f-4da9-9a37-a981c7ff3925",
   "metadata": {},
   "source": [
    "### Exercice 1.3\n",
    "Etant donnée un carte représentant un laboratoire, comment récupérer son nom, son acronnyme, son code, sese disciplines et l'adresse de la page le décrivant ?"
   ]
  },
  {
   "cell_type": "code",
   "execution_count": null,
   "id": "df985485-d0f6-4fbb-8fb0-eb53014e019b",
   "metadata": {
    "tags": []
   },
   "outputs": [],
   "source": []
  },
  {
   "cell_type": "markdown",
   "id": "63caf2e7-7782-4f2c-b822-093e62940864",
   "metadata": {},
   "source": [
    "### Exercice 1.4\n",
    "\n",
    "On va représenter l'ensemble des informations sur tous les labos comme un dictionnaire de dictionnaires : \n",
    "\n",
    "```python\n",
    "{\n",
    "  \"ARAR\": {\n",
    "    \"nom\": \"Arch\\u00e9ologie et Arch\\u00e9om\\u00e9trie\",\n",
    "    \"code\": \"UMR 5138\",\n",
    "    \"disciplines\": \"archeology,economy,history\",\n",
    "    \"url\": \"https://www.msh-lse.fr/laboratoires/arar/\"\n",
    "  },\n",
    "  \"ARCHEORIENT\": {\n",
    "    \"nom\": \"Environnements et soci\\u00e9t\\u00e9s de l'Orient ancien\",\n",
    "    \"code\": \"UMR 5133\",\n",
    "    \"disciplines\": \"archeology,geography,history\",\n",
    "    \"url\": \"https://www.msh-lse.fr/laboratoires/archeorient/\"\n",
    "  },\n",
    "\n",
    "```"
   ]
  },
  {
   "cell_type": "code",
   "execution_count": 49,
   "id": "13124853-93a5-4f09-a460-57b8f56a21d5",
   "metadata": {
    "execution": {
     "iopub.execute_input": "2022-02-01T16:33:04.908643Z",
     "iopub.status.busy": "2022-02-01T16:33:04.908173Z",
     "iopub.status.idle": "2022-02-01T16:33:04.935815Z",
     "shell.execute_reply": "2022-02-01T16:33:04.933832Z",
     "shell.execute_reply.started": "2022-02-01T16:33:04.908598Z"
    },
    "tags": []
   },
   "outputs": [],
   "source": []
  },
  {
   "cell_type": "markdown",
   "id": "580acafd-2449-4d3d-b274-aab4c606de48",
   "metadata": {
    "execution": {
     "iopub.execute_input": "2022-02-01T16:45:37.830955Z",
     "iopub.status.busy": "2022-02-01T16:45:37.830355Z",
     "iopub.status.idle": "2022-02-01T16:45:37.842365Z",
     "shell.execute_reply": "2022-02-01T16:45:37.840142Z",
     "shell.execute_reply.started": "2022-02-01T16:45:37.830905Z"
    }
   },
   "source": [
    "### Sauvegarde des données\n",
    "\n",
    "C'est le bon moment pour enregistrer les données que nous venons de récupérer et de structurer. Le format *json* est particulièrement bien adapté. Sous Windows, si l'on souhaite que le fichier soit encodé en Unicode (ce qui est hautement conseillé), on est obligé de préciser explicitement. Sous Mac et Linux, c'est l'encodage par défaut. "
   ]
  },
  {
   "cell_type": "code",
   "execution_count": 2,
   "id": "293fa28a-32de-4b07-9b82-98332226f91d",
   "metadata": {
    "execution": {
     "iopub.execute_input": "2022-02-03T13:15:09.427342Z",
     "iopub.status.busy": "2022-02-03T13:15:09.426864Z",
     "iopub.status.idle": "2022-02-03T13:15:09.437771Z",
     "shell.execute_reply": "2022-02-03T13:15:09.435491Z",
     "shell.execute_reply.started": "2022-02-03T13:15:09.427295Z"
    }
   },
   "outputs": [],
   "source": [
    "import json"
   ]
  },
  {
   "cell_type": "code",
   "execution_count": 65,
   "id": "a8557313-eb53-406a-bc4a-01cee8871a33",
   "metadata": {
    "execution": {
     "iopub.execute_input": "2022-02-02T20:53:14.335979Z",
     "iopub.status.busy": "2022-02-02T20:53:14.335428Z",
     "iopub.status.idle": "2022-02-02T20:53:14.346371Z",
     "shell.execute_reply": "2022-02-02T20:53:14.344518Z",
     "shell.execute_reply.started": "2022-02-02T20:53:14.335940Z"
    },
    "tags": []
   },
   "outputs": [],
   "source": [
    "with open('labos.json', 'w', encoding='utf8') as f:\n",
    "    f.write(json.dumps(labos))\n",
    "    #f.write(json.dumps(labos, indent=4)) #On peut préférer cette version si l'on souhaite que le fichier soit lisiblement formaté."
   ]
  },
  {
   "cell_type": "markdown",
   "id": "afe1e55d-3fcc-4469-815a-073719c5be9d",
   "metadata": {
    "execution": {
     "iopub.execute_input": "2022-02-01T16:45:18.903258Z",
     "iopub.status.busy": "2022-02-01T16:45:18.902697Z",
     "iopub.status.idle": "2022-02-01T16:45:18.908898Z",
     "shell.execute_reply": "2022-02-01T16:45:18.906738Z",
     "shell.execute_reply.started": "2022-02-01T16:45:18.903224Z"
    }
   },
   "source": [
    "## Textes de chaque labo"
   ]
  },
  {
   "cell_type": "code",
   "execution_count": 10,
   "id": "ddf70444-e4ad-4507-beab-c4f0b81e4a0f",
   "metadata": {
    "execution": {
     "iopub.execute_input": "2022-02-02T15:26:12.285268Z",
     "iopub.status.busy": "2022-02-02T15:26:12.277378Z",
     "iopub.status.idle": "2022-02-02T15:26:12.292815Z",
     "shell.execute_reply": "2022-02-02T15:26:12.291607Z",
     "shell.execute_reply.started": "2022-02-02T15:26:12.285213Z"
    },
    "tags": []
   },
   "outputs": [],
   "source": [
    "# Si besoin, on peut recharger les données\n",
    "with open('labos.json', encoding='utf8') as f:\n",
    "    labos = json.loads(f.read())"
   ]
  },
  {
   "cell_type": "markdown",
   "id": "8ae7ab9d-8fd3-4786-ae5b-4bf022a3b8c8",
   "metadata": {},
   "source": [
    "Le principe pour aller récupérer le projet scientifique et les activités valorisables de chaque labo est le même que ce dessus : on récupère le code HTML disponible à l'URL de la page de description de chaque labo, on parse ce code HTML avec Beautiful Soup et on va chercher les informations pertinentes. "
   ]
  },
  {
   "cell_type": "markdown",
   "id": "c132513f-be8a-49f3-a62e-f00310023f52",
   "metadata": {
    "execution": {
     "iopub.execute_input": "2022-02-02T13:35:45.646033Z",
     "iopub.status.busy": "2022-02-02T13:35:45.645686Z",
     "iopub.status.idle": "2022-02-02T13:35:45.661210Z",
     "shell.execute_reply": "2022-02-02T13:35:45.659823Z",
     "shell.execute_reply.started": "2022-02-02T13:35:45.646002Z"
    }
   },
   "source": [
    "### Exercice 1.5\n",
    "Compléter la cellule ci-dessous"
   ]
  },
  {
   "cell_type": "code",
   "execution_count": null,
   "id": "e067895e-d813-45cd-bddf-5701e72308e6",
   "metadata": {
    "tags": []
   },
   "outputs": [],
   "source": [
    "from tqdm.notebook import tqdm #tqdm est bibliothèque qui permet d'avoir une barre de progression \n",
    "\n",
    "projets={}\n",
    "compétences={}\n",
    "for labo in tqdm(labos):\n",
    "    html=urllib.request.urlopen(labos[labo]['url']).read()\n",
    "    soup = BeautifulSoup(html, 'html.parser')\n",
    "    try:\n",
    "        ...\n",
    "        projets[labo]=...\n",
    "    except Exception as e:\n",
    "        print(f\"Impossible de récupérer le projet scientifique du laboratoire {labo} : {e}\")\n",
    "    try:    \n",
    "        ...\n",
    "        compétences[labo]=...\n",
    "    except Exception as e:\n",
    "        print(f\"Impossible de récupérer les compétences du laboratoire {labo} : {e}\")"
   ]
  },
  {
   "cell_type": "markdown",
   "id": "99206592-0720-460a-b142-ff81176ff72b",
   "metadata": {},
   "source": [
    "### Sauvegarde des données\n",
    "On veut enregistrer les données que l'onn vient de récupérer. On souhaite la structure de fichiers suivante : \n",
    "```\n",
    ".\n",
    "├── labos.json\n",
    "├── labos/\n",
    "│   ├──ARAR/    \n",
    "│   │  ├── projet_scientifique.txt\n",
    "│   │  ├── Compétences_activités_valorisables.txt\n",
    "│   ├──ARCHEORIENT/   \n",
    "│   │  ├── projet_scientifique.txt\n",
    "│   │  ├── Compétences_activités_valorisables.txt\n",
    "...\n",
    "```\n",
    "Python crée automatiquement les fichiers inexistants lorsqu'on les ouvre (en mode écriture), autant il ne crée par les dossiers : il faut le faire explicitement. Le package [pathlib](https://docs.python.org/3/library/pathlib.html) permet ce genre de manipulation."
   ]
  },
  {
   "cell_type": "code",
   "execution_count": 3,
   "id": "41cdcfa5-5bab-46e3-8167-a44e03733c04",
   "metadata": {
    "execution": {
     "iopub.execute_input": "2022-02-03T13:15:29.665815Z",
     "iopub.status.busy": "2022-02-03T13:15:29.661942Z",
     "iopub.status.idle": "2022-02-03T13:15:29.705593Z",
     "shell.execute_reply": "2022-02-03T13:15:29.704184Z",
     "shell.execute_reply.started": "2022-02-03T13:15:29.665737Z"
    }
   },
   "outputs": [],
   "source": [
    "from pathlib import Path"
   ]
  },
  {
   "cell_type": "code",
   "execution_count": 24,
   "id": "ec65f9c0-a1aa-4ae6-8023-2ed5c98c895d",
   "metadata": {
    "execution": {
     "iopub.execute_input": "2022-02-02T15:46:18.417724Z",
     "iopub.status.busy": "2022-02-02T15:46:18.416556Z",
     "iopub.status.idle": "2022-02-02T15:46:18.570446Z",
     "shell.execute_reply": "2022-02-02T15:46:18.569277Z",
     "shell.execute_reply.started": "2022-02-02T15:46:18.417614Z"
    },
    "tags": []
   },
   "outputs": [
    {
     "data": {
      "application/vnd.jupyter.widget-view+json": {
       "model_id": "061238f8ec344cb98c1928b60e760a33",
       "version_major": 2,
       "version_minor": 0
      },
      "text/plain": [
       "  0%|          | 0/50 [00:00<?, ?it/s]"
      ]
     },
     "metadata": {},
     "output_type": "display_data"
    },
    {
     "data": {
      "application/vnd.jupyter.widget-view+json": {
       "model_id": "eaa6a041ff794b03b95e0b3ad19de84f",
       "version_major": 2,
       "version_minor": 0
      },
      "text/plain": [
       "  0%|          | 0/38 [00:00<?, ?it/s]"
      ]
     },
     "metadata": {},
     "output_type": "display_data"
    }
   ],
   "source": [
    "Path('labos').mkdir(exist_ok=True)\n",
    "for labo in projets:\n",
    "    Path(f'labos/{labo}').mkdir(exist_ok=True)\n",
    "    with open(f'labos/{labo}/projet_scientifique.txt', 'w', encoding='utf8') as f:\n",
    "        f.write(projets[labo])\n",
    "for labo in compétences:\n",
    "    Path(f'labos/{labo}').mkdir(exist_ok=True)\n",
    "    with open(f'labos/{labo}/Compétences_activités_valorisables.txt', 'w', encoding='utf8') as f:\n",
    "        f.write(compétences[labo])        "
   ]
  }
 ],
 "metadata": {
  "kernelspec": {
   "display_name": "Python 3 (ipykernel)",
   "language": "python",
   "name": "python3"
  },
  "language_info": {
   "codemirror_mode": {
    "name": "ipython",
    "version": 3
   },
   "file_extension": ".py",
   "mimetype": "text/x-python",
   "name": "python",
   "nbconvert_exporter": "python",
   "pygments_lexer": "ipython3",
   "version": "3.10.6"
  }
 },
 "nbformat": 4,
 "nbformat_minor": 5
}
